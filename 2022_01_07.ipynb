{
  "nbformat": 4,
  "nbformat_minor": 0,
  "metadata": {
    "colab": {
      "name": "2022/01/07",
      "provenance": [],
      "authorship_tag": "ABX9TyPw7+bvztP7LTvtginRUWKR",
      "include_colab_link": true
    },
    "kernelspec": {
      "name": "python3",
      "display_name": "Python 3"
    },
    "language_info": {
      "name": "python"
    }
  },
  "cells": [
    {
      "cell_type": "markdown",
      "metadata": {
        "id": "view-in-github",
        "colab_type": "text"
      },
      "source": [
        "<a href=\"https://colab.research.google.com/github/nicochang7631/Data-Analyst/blob/main/2022_01_07.ipynb\" target=\"_parent\"><img src=\"https://colab.research.google.com/assets/colab-badge.svg\" alt=\"Open In Colab\"/></a>"
      ]
    },
    {
      "cell_type": "code",
      "execution_count": 3,
      "metadata": {
        "colab": {
          "base_uri": "https://localhost:8080/"
        },
        "id": "b_AesbKV37-w",
        "outputId": "1c9aadb2-10eb-4529-e4df-b2a6c653729a"
      },
      "outputs": [
        {
          "output_type": "execute_result",
          "data": {
            "text/plain": [
              "[64.4, 35.6, 41.0, 53.6]"
            ]
          },
          "metadata": {},
          "execution_count": 3
        }
      ],
      "source": [
        "def get_fahrehits(*args):\n",
        "  fahrehits = []\n",
        "  for i in args:\n",
        "    f = i * 9/5 +32\n",
        "    fahrehits.append(f)\n",
        "  return fahrehits\n",
        "\n",
        "get_fahrehits(18,2,5,12)"
      ]
    },
    {
      "cell_type": "code",
      "source": [
        "years = [1995,1996,1997,1998]\n",
        "name = ['Nico','Harper','Chris','Kisy']\n",
        "\n",
        "for i,(y,n) in enumerate(zip(years,name)):\n",
        "  print(\"{}名字為{},出生於{}\".format(i,n,y))"
      ],
      "metadata": {
        "colab": {
          "base_uri": "https://localhost:8080/"
        },
        "id": "0obpovF6CGUh",
        "outputId": "8493f2b5-0d5f-40e5-c8e1-aef939cc7d08"
      },
      "execution_count": 10,
      "outputs": [
        {
          "output_type": "stream",
          "name": "stdout",
          "text": [
            "0名字為Nico,出生於1995\n",
            "1名字為Harper,出生於1996\n",
            "2名字為Chris,出生於1997\n",
            "3名字為Kisy,出生於1998\n"
          ]
        }
      ]
    },
    {
      "cell_type": "code",
      "source": [
        "release_years = [2012, 2015, 2018, 2019]\n",
        "the_avenger_movies = [\"The Avengers\", \"Avengers: Age of Ultron\", \"Avengers: Infinity War\", \"Avengers: Endgame\"]\n",
        "for y, movie in zip(release_years, the_avenger_movies):\n",
        "    print(\"{} 上映年份 {}\".format(movie, y))"
      ],
      "metadata": {
        "colab": {
          "base_uri": "https://localhost:8080/"
        },
        "id": "jF25g9jHDiYW",
        "outputId": "7d82e89a-8b8e-484d-c003-30f00c4f88b2"
      },
      "execution_count": 6,
      "outputs": [
        {
          "output_type": "stream",
          "name": "stdout",
          "text": [
            "The Avengers 上映年份 2012\n",
            "Avengers: Age of Ultron 上映年份 2015\n",
            "Avengers: Infinity War 上映年份 2018\n",
            "Avengers: Endgame 上映年份 2019\n"
          ]
        }
      ]
    }
  ]
}